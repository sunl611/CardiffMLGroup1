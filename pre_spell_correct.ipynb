{
  "nbformat": 4,
  "nbformat_minor": 0,
  "metadata": {
    "colab": {
      "name": "pre_spell_correct.ipynb",
      "provenance": [],
      "collapsed_sections": [],
      "mount_file_id": "1UfxbcbcFamCWZ0vwfN41eRm8U_FtRoT1",
      "authorship_tag": "ABX9TyPVoU80KZou8ifJ4qSwBcIi",
      "include_colab_link": true
    },
    "kernelspec": {
      "name": "python3",
      "display_name": "Python 3"
    },
    "language_info": {
      "name": "python"
    }
  },
  "cells": [
    {
      "cell_type": "markdown",
      "metadata": {
        "id": "view-in-github",
        "colab_type": "text"
      },
      "source": [
        "<a href=\"https://colab.research.google.com/github/sunl611/CardiffMLGroup1/blob/master/pre_spell_correct.ipynb\" target=\"_parent\"><img src=\"https://colab.research.google.com/assets/colab-badge.svg\" alt=\"Open In Colab\"/></a>"
      ]
    },
    {
      "cell_type": "code",
      "metadata": {
        "id": "ZO7PyqO9Ks1w"
      },
      "source": [
        "import pandas as pd"
      ],
      "execution_count": 1,
      "outputs": []
    },
    {
      "cell_type": "code",
      "metadata": {
        "colab": {
          "base_uri": "https://localhost:8080/",
          "height": 481
        },
        "id": "S8tplr18PkRE",
        "outputId": "84a65c1f-d076-45f9-ad52-0d8276b86cd0"
      },
      "source": [
        "spell = pd.read_csv(\"https://drive.google.com/file/d/1Qdk0GkIIikU1BoChMDwHW5gPF3i-44Rt/view?usp=sharing\")"
      ],
      "execution_count": 7,
      "outputs": [
        {
          "output_type": "error",
          "ename": "ParserError",
          "evalue": "ignored",
          "traceback": [
            "\u001b[0;31m---------------------------------------------------------------------------\u001b[0m",
            "\u001b[0;31mParserError\u001b[0m                               Traceback (most recent call last)",
            "\u001b[0;32m<ipython-input-7-9d1c53288e66>\u001b[0m in \u001b[0;36m<module>\u001b[0;34m()\u001b[0m\n\u001b[0;32m----> 1\u001b[0;31m \u001b[0mspell\u001b[0m \u001b[0;34m=\u001b[0m \u001b[0mpd\u001b[0m\u001b[0;34m.\u001b[0m\u001b[0mread_csv\u001b[0m\u001b[0;34m(\u001b[0m\u001b[0;34m\"https://drive.google.com/file/d/1Qdk0GkIIikU1BoChMDwHW5gPF3i-44Rt/view?usp=sharing\"\u001b[0m\u001b[0;34m)\u001b[0m\u001b[0;34m\u001b[0m\u001b[0;34m\u001b[0m\u001b[0m\n\u001b[0m",
            "\u001b[0;32m/usr/local/lib/python3.7/dist-packages/pandas/io/parsers.py\u001b[0m in \u001b[0;36mread_csv\u001b[0;34m(filepath_or_buffer, sep, delimiter, header, names, index_col, usecols, squeeze, prefix, mangle_dupe_cols, dtype, engine, converters, true_values, false_values, skipinitialspace, skiprows, skipfooter, nrows, na_values, keep_default_na, na_filter, verbose, skip_blank_lines, parse_dates, infer_datetime_format, keep_date_col, date_parser, dayfirst, cache_dates, iterator, chunksize, compression, thousands, decimal, lineterminator, quotechar, quoting, doublequote, escapechar, comment, encoding, dialect, error_bad_lines, warn_bad_lines, delim_whitespace, low_memory, memory_map, float_precision)\u001b[0m\n\u001b[1;32m    686\u001b[0m     )\n\u001b[1;32m    687\u001b[0m \u001b[0;34m\u001b[0m\u001b[0m\n\u001b[0;32m--> 688\u001b[0;31m     \u001b[0;32mreturn\u001b[0m \u001b[0m_read\u001b[0m\u001b[0;34m(\u001b[0m\u001b[0mfilepath_or_buffer\u001b[0m\u001b[0;34m,\u001b[0m \u001b[0mkwds\u001b[0m\u001b[0;34m)\u001b[0m\u001b[0;34m\u001b[0m\u001b[0;34m\u001b[0m\u001b[0m\n\u001b[0m\u001b[1;32m    689\u001b[0m \u001b[0;34m\u001b[0m\u001b[0m\n\u001b[1;32m    690\u001b[0m \u001b[0;34m\u001b[0m\u001b[0m\n",
            "\u001b[0;32m/usr/local/lib/python3.7/dist-packages/pandas/io/parsers.py\u001b[0m in \u001b[0;36m_read\u001b[0;34m(filepath_or_buffer, kwds)\u001b[0m\n\u001b[1;32m    458\u001b[0m \u001b[0;34m\u001b[0m\u001b[0m\n\u001b[1;32m    459\u001b[0m     \u001b[0;32mtry\u001b[0m\u001b[0;34m:\u001b[0m\u001b[0;34m\u001b[0m\u001b[0;34m\u001b[0m\u001b[0m\n\u001b[0;32m--> 460\u001b[0;31m         \u001b[0mdata\u001b[0m \u001b[0;34m=\u001b[0m \u001b[0mparser\u001b[0m\u001b[0;34m.\u001b[0m\u001b[0mread\u001b[0m\u001b[0;34m(\u001b[0m\u001b[0mnrows\u001b[0m\u001b[0;34m)\u001b[0m\u001b[0;34m\u001b[0m\u001b[0;34m\u001b[0m\u001b[0m\n\u001b[0m\u001b[1;32m    461\u001b[0m     \u001b[0;32mfinally\u001b[0m\u001b[0;34m:\u001b[0m\u001b[0;34m\u001b[0m\u001b[0;34m\u001b[0m\u001b[0m\n\u001b[1;32m    462\u001b[0m         \u001b[0mparser\u001b[0m\u001b[0;34m.\u001b[0m\u001b[0mclose\u001b[0m\u001b[0;34m(\u001b[0m\u001b[0;34m)\u001b[0m\u001b[0;34m\u001b[0m\u001b[0;34m\u001b[0m\u001b[0m\n",
            "\u001b[0;32m/usr/local/lib/python3.7/dist-packages/pandas/io/parsers.py\u001b[0m in \u001b[0;36mread\u001b[0;34m(self, nrows)\u001b[0m\n\u001b[1;32m   1196\u001b[0m     \u001b[0;32mdef\u001b[0m \u001b[0mread\u001b[0m\u001b[0;34m(\u001b[0m\u001b[0mself\u001b[0m\u001b[0;34m,\u001b[0m \u001b[0mnrows\u001b[0m\u001b[0;34m=\u001b[0m\u001b[0;32mNone\u001b[0m\u001b[0;34m)\u001b[0m\u001b[0;34m:\u001b[0m\u001b[0;34m\u001b[0m\u001b[0;34m\u001b[0m\u001b[0m\n\u001b[1;32m   1197\u001b[0m         \u001b[0mnrows\u001b[0m \u001b[0;34m=\u001b[0m \u001b[0m_validate_integer\u001b[0m\u001b[0;34m(\u001b[0m\u001b[0;34m\"nrows\"\u001b[0m\u001b[0;34m,\u001b[0m \u001b[0mnrows\u001b[0m\u001b[0;34m)\u001b[0m\u001b[0;34m\u001b[0m\u001b[0;34m\u001b[0m\u001b[0m\n\u001b[0;32m-> 1198\u001b[0;31m         \u001b[0mret\u001b[0m \u001b[0;34m=\u001b[0m \u001b[0mself\u001b[0m\u001b[0;34m.\u001b[0m\u001b[0m_engine\u001b[0m\u001b[0;34m.\u001b[0m\u001b[0mread\u001b[0m\u001b[0;34m(\u001b[0m\u001b[0mnrows\u001b[0m\u001b[0;34m)\u001b[0m\u001b[0;34m\u001b[0m\u001b[0;34m\u001b[0m\u001b[0m\n\u001b[0m\u001b[1;32m   1199\u001b[0m \u001b[0;34m\u001b[0m\u001b[0m\n\u001b[1;32m   1200\u001b[0m         \u001b[0;31m# May alter columns / col_dict\u001b[0m\u001b[0;34m\u001b[0m\u001b[0;34m\u001b[0m\u001b[0;34m\u001b[0m\u001b[0m\n",
            "\u001b[0;32m/usr/local/lib/python3.7/dist-packages/pandas/io/parsers.py\u001b[0m in \u001b[0;36mread\u001b[0;34m(self, nrows)\u001b[0m\n\u001b[1;32m   2155\u001b[0m     \u001b[0;32mdef\u001b[0m \u001b[0mread\u001b[0m\u001b[0;34m(\u001b[0m\u001b[0mself\u001b[0m\u001b[0;34m,\u001b[0m \u001b[0mnrows\u001b[0m\u001b[0;34m=\u001b[0m\u001b[0;32mNone\u001b[0m\u001b[0;34m)\u001b[0m\u001b[0;34m:\u001b[0m\u001b[0;34m\u001b[0m\u001b[0;34m\u001b[0m\u001b[0m\n\u001b[1;32m   2156\u001b[0m         \u001b[0;32mtry\u001b[0m\u001b[0;34m:\u001b[0m\u001b[0;34m\u001b[0m\u001b[0;34m\u001b[0m\u001b[0m\n\u001b[0;32m-> 2157\u001b[0;31m             \u001b[0mdata\u001b[0m \u001b[0;34m=\u001b[0m \u001b[0mself\u001b[0m\u001b[0;34m.\u001b[0m\u001b[0m_reader\u001b[0m\u001b[0;34m.\u001b[0m\u001b[0mread\u001b[0m\u001b[0;34m(\u001b[0m\u001b[0mnrows\u001b[0m\u001b[0;34m)\u001b[0m\u001b[0;34m\u001b[0m\u001b[0;34m\u001b[0m\u001b[0m\n\u001b[0m\u001b[1;32m   2158\u001b[0m         \u001b[0;32mexcept\u001b[0m \u001b[0mStopIteration\u001b[0m\u001b[0;34m:\u001b[0m\u001b[0;34m\u001b[0m\u001b[0;34m\u001b[0m\u001b[0m\n\u001b[1;32m   2159\u001b[0m             \u001b[0;32mif\u001b[0m \u001b[0mself\u001b[0m\u001b[0;34m.\u001b[0m\u001b[0m_first_chunk\u001b[0m\u001b[0;34m:\u001b[0m\u001b[0;34m\u001b[0m\u001b[0;34m\u001b[0m\u001b[0m\n",
            "\u001b[0;32mpandas/_libs/parsers.pyx\u001b[0m in \u001b[0;36mpandas._libs.parsers.TextReader.read\u001b[0;34m()\u001b[0m\n",
            "\u001b[0;32mpandas/_libs/parsers.pyx\u001b[0m in \u001b[0;36mpandas._libs.parsers.TextReader._read_low_memory\u001b[0;34m()\u001b[0m\n",
            "\u001b[0;32mpandas/_libs/parsers.pyx\u001b[0m in \u001b[0;36mpandas._libs.parsers.TextReader._read_rows\u001b[0;34m()\u001b[0m\n",
            "\u001b[0;32mpandas/_libs/parsers.pyx\u001b[0m in \u001b[0;36mpandas._libs.parsers.TextReader._tokenize_rows\u001b[0;34m()\u001b[0m\n",
            "\u001b[0;32mpandas/_libs/parsers.pyx\u001b[0m in \u001b[0;36mpandas._libs.parsers.raise_parser_error\u001b[0;34m()\u001b[0m\n",
            "\u001b[0;31mParserError\u001b[0m: Error tokenizing data. C error: Expected 301 fields in line 128, saw 440\n"
          ]
        }
      ]
    },
    {
      "cell_type": "code",
      "metadata": {
        "colab": {
          "base_uri": "https://localhost:8080/"
        },
        "id": "OdGENTITPy4m",
        "outputId": "3e0b3151-8623-448a-d219-83582717fb09"
      },
      "source": [
        "pip install autocorrect"
      ],
      "execution_count": 5,
      "outputs": [
        {
          "output_type": "stream",
          "text": [
            "Collecting autocorrect\n",
            "\u001b[?25l  Downloading https://files.pythonhosted.org/packages/35/31/aa5d4b54baafed2d0eef47e30d527ea60eb7357f11c3b5adc58262a3c693/autocorrect-2.5.0.tar.gz (622kB)\n",
            "\r\u001b[K     |▌                               | 10kB 16.4MB/s eta 0:00:01\r\u001b[K     |█                               | 20kB 13.8MB/s eta 0:00:01\r\u001b[K     |█▋                              | 30kB 9.5MB/s eta 0:00:01\r\u001b[K     |██                              | 40kB 8.7MB/s eta 0:00:01\r\u001b[K     |██▋                             | 51kB 4.8MB/s eta 0:00:01\r\u001b[K     |███▏                            | 61kB 5.3MB/s eta 0:00:01\r\u001b[K     |███▊                            | 71kB 5.4MB/s eta 0:00:01\r\u001b[K     |████▏                           | 81kB 6.1MB/s eta 0:00:01\r\u001b[K     |████▊                           | 92kB 6.1MB/s eta 0:00:01\r\u001b[K     |█████▎                          | 102kB 5.3MB/s eta 0:00:01\r\u001b[K     |█████▉                          | 112kB 5.3MB/s eta 0:00:01\r\u001b[K     |██████▎                         | 122kB 5.3MB/s eta 0:00:01\r\u001b[K     |██████▉                         | 133kB 5.3MB/s eta 0:00:01\r\u001b[K     |███████▍                        | 143kB 5.3MB/s eta 0:00:01\r\u001b[K     |████████                        | 153kB 5.3MB/s eta 0:00:01\r\u001b[K     |████████▍                       | 163kB 5.3MB/s eta 0:00:01\r\u001b[K     |█████████                       | 174kB 5.3MB/s eta 0:00:01\r\u001b[K     |█████████▌                      | 184kB 5.3MB/s eta 0:00:01\r\u001b[K     |██████████                      | 194kB 5.3MB/s eta 0:00:01\r\u001b[K     |██████████▌                     | 204kB 5.3MB/s eta 0:00:01\r\u001b[K     |███████████                     | 215kB 5.3MB/s eta 0:00:01\r\u001b[K     |███████████▋                    | 225kB 5.3MB/s eta 0:00:01\r\u001b[K     |████████████▏                   | 235kB 5.3MB/s eta 0:00:01\r\u001b[K     |████████████▋                   | 245kB 5.3MB/s eta 0:00:01\r\u001b[K     |█████████████▏                  | 256kB 5.3MB/s eta 0:00:01\r\u001b[K     |█████████████▊                  | 266kB 5.3MB/s eta 0:00:01\r\u001b[K     |██████████████▏                 | 276kB 5.3MB/s eta 0:00:01\r\u001b[K     |██████████████▊                 | 286kB 5.3MB/s eta 0:00:01\r\u001b[K     |███████████████▎                | 296kB 5.3MB/s eta 0:00:01\r\u001b[K     |███████████████▉                | 307kB 5.3MB/s eta 0:00:01\r\u001b[K     |████████████████▎               | 317kB 5.3MB/s eta 0:00:01\r\u001b[K     |████████████████▉               | 327kB 5.3MB/s eta 0:00:01\r\u001b[K     |█████████████████▍              | 337kB 5.3MB/s eta 0:00:01\r\u001b[K     |██████████████████              | 348kB 5.3MB/s eta 0:00:01\r\u001b[K     |██████████████████▍             | 358kB 5.3MB/s eta 0:00:01\r\u001b[K     |███████████████████             | 368kB 5.3MB/s eta 0:00:01\r\u001b[K     |███████████████████▌            | 378kB 5.3MB/s eta 0:00:01\r\u001b[K     |████████████████████            | 389kB 5.3MB/s eta 0:00:01\r\u001b[K     |████████████████████▌           | 399kB 5.3MB/s eta 0:00:01\r\u001b[K     |█████████████████████           | 409kB 5.3MB/s eta 0:00:01\r\u001b[K     |█████████████████████▋          | 419kB 5.3MB/s eta 0:00:01\r\u001b[K     |██████████████████████▏         | 430kB 5.3MB/s eta 0:00:01\r\u001b[K     |██████████████████████▋         | 440kB 5.3MB/s eta 0:00:01\r\u001b[K     |███████████████████████▏        | 450kB 5.3MB/s eta 0:00:01\r\u001b[K     |███████████████████████▊        | 460kB 5.3MB/s eta 0:00:01\r\u001b[K     |████████████████████████▎       | 471kB 5.3MB/s eta 0:00:01\r\u001b[K     |████████████████████████▊       | 481kB 5.3MB/s eta 0:00:01\r\u001b[K     |█████████████████████████▎      | 491kB 5.3MB/s eta 0:00:01\r\u001b[K     |█████████████████████████▉      | 501kB 5.3MB/s eta 0:00:01\r\u001b[K     |██████████████████████████▎     | 512kB 5.3MB/s eta 0:00:01\r\u001b[K     |██████████████████████████▉     | 522kB 5.3MB/s eta 0:00:01\r\u001b[K     |███████████████████████████▍    | 532kB 5.3MB/s eta 0:00:01\r\u001b[K     |████████████████████████████    | 542kB 5.3MB/s eta 0:00:01\r\u001b[K     |████████████████████████████▍   | 552kB 5.3MB/s eta 0:00:01\r\u001b[K     |█████████████████████████████   | 563kB 5.3MB/s eta 0:00:01\r\u001b[K     |█████████████████████████████▌  | 573kB 5.3MB/s eta 0:00:01\r\u001b[K     |██████████████████████████████  | 583kB 5.3MB/s eta 0:00:01\r\u001b[K     |██████████████████████████████▌ | 593kB 5.3MB/s eta 0:00:01\r\u001b[K     |███████████████████████████████ | 604kB 5.3MB/s eta 0:00:01\r\u001b[K     |███████████████████████████████▋| 614kB 5.3MB/s eta 0:00:01\r\u001b[K     |████████████████████████████████| 624kB 5.3MB/s \n",
            "\u001b[?25hBuilding wheels for collected packages: autocorrect\n",
            "  Building wheel for autocorrect (setup.py) ... \u001b[?25l\u001b[?25hdone\n",
            "  Created wheel for autocorrect: filename=autocorrect-2.5.0-cp37-none-any.whl size=621854 sha256=2f7198e679cf66a7f2106d587d1b5c520ca1ff6b1cff3361987eeb45c6a650e7\n",
            "  Stored in directory: /root/.cache/pip/wheels/1f/71/da/4a15028d25fbd5fb97fb76c5f76f0ad86f0caa69394dd7cfa7\n",
            "Successfully built autocorrect\n",
            "Installing collected packages: autocorrect\n",
            "Successfully installed autocorrect-2.5.0\n"
          ],
          "name": "stdout"
        }
      ]
    },
    {
      "cell_type": "code",
      "metadata": {
        "id": "ejKUnKBxP6pO"
      },
      "source": [
        "from tqdm import tqdm\n",
        "from autocorrect import Speller\n",
        "def check(text):\n",
        "  check = Speller(lang='en')\n",
        "  return check(text)\n",
        "# for t in tqdm(df['text']):\n",
        "#   check.autocorrect_sentence(t)\n",
        "df['check'] = df.text.progress_appsly(check)\n",
        "\n",
        "df.to_csv('')\n",
        "# Spell check using text blob for the text after remove rare words.\n",
        "# so long time to run..\n",
        "# from textblob import TextBlob\n",
        "\n",
        "# from tqdm import tqdm\n",
        "\n",
        "# pre_spell = []\n",
        "\n",
        "# for text in tqdm(df['text_rare']):\n",
        "#       pre_text = TextBlob(text).correct()\n",
        "#       pre_spell.append(pre_text)\n",
        "\n",
        "\n",
        "# pre_spell_pd = pd.DataFrame(pre_spell,columns=['spell_corr_text'])\n",
        "# df = pd.concat([df, pre_spell_pd], axis=1)\n",
        "\n",
        "# tqdm.pandas()\n",
        "# df.text.progress_apply(lambda txt: ''.join(TextBlob(txt).correct()))\n",
        "# df.to_csv('/content/drive/MyDrive/Colab Notebooks/after_spell_correct1.csv')"
      ],
      "execution_count": null,
      "outputs": []
    }
  ]
}